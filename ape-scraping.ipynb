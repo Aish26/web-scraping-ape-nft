{
 "cells": [
  {
   "cell_type": "markdown",
   "id": "e121493a",
   "metadata": {},
   "source": [
    "### Introduction\n",
    "\n",
    "This project is aimed at exploring ways to extract information from the internet and store it in database.It is focused on extracting the information of golden fur ape NFT and then storing it in a mongodb database.\n",
    "\n",
    "### Variables extracted\n",
    "- Ape NFT\n",
    "    - Name\n",
    "    - Attributes\n",
    "    - Price\n",
    "\n",
    "### Business Outcome:\n",
    "\n",
    "Data scraped from the internet can be a valuable resource for statistical analysis and research purposes. By storing this data in a database, it becomes possible to visualize all relevant information at once, resulting in significant time savings and increased efficiency.\n",
    "\n",
    "For example, data scraping of Golden Fur NFTs can provide insights into the characteristics of each digital asset, enabling a more informed purchasing decision. The structured format of the stored details facilitates data analysis and enables efficient extraction of meaningful insights.\n",
    "\n",
    "Moreover, the stored data can be used to perform advanced analytics and statistical modeling techniques such as clustering, regression, and predictive modeling. These techniques can identify patterns and relationships within the data and enable accurate predictions and forecasts based on historical trends.\n",
    "\n",
    "Overall, the availability of structured data in a database can be a powerful tool for organizations seeking to make data-driven decisions, as it enables efficient data analysis and the extraction of valuable insights that can be used to inform business strategy and decision-making.\n",
    "\n",
    "### Tools and Technologies Used\n",
    "- Selenium\n",
    "- Beautiful soup\n",
    "- Mongodb\n",
    "\n",
    "\n",
    "\n",
    "\n"
   ]
  },
  {
   "cell_type": "markdown",
   "id": "99c71436",
   "metadata": {},
   "source": [
    "Importing libraries\n"
   ]
  },
  {
   "cell_type": "code",
   "execution_count": 4,
   "id": "aa6ef78b",
   "metadata": {},
   "outputs": [],
   "source": [
    "from bs4 import BeautifulSoup\n",
    "import requests\n",
    "import time\n",
    "import re\n",
    "from selenium import webdriver\n",
    "from selenium.webdriver.common.keys import Keys\n",
    "from selenium.webdriver.common.by import By\n",
    "import os\n",
    "import json\n",
    "import pymongo \n",
    "import re"
   ]
  },
  {
   "cell_type": "markdown",
   "id": "b29f4921",
   "metadata": {},
   "source": [
    "### APE NFT \n",
    "\n",
    "Loading selenium driver to open Bored Apes website with solid gold fur apes\n"
   ]
  },
  {
   "cell_type": "code",
   "execution_count": null,
   "id": "61850725",
   "metadata": {},
   "outputs": [],
   "source": [
    "driver = webdriver.Chrome(executable_path=' ')\n",
    "#This path will need to be changed for execution\n",
    "\n",
    "driver.implicitly_wait(10)\n",
    "\n",
    "driver.get(\"https://opensea.io/collection/boredapeyachtclub?search[sortAscending]=false&search[stringTraits][0][name]=Fur&search[stringTraits][0][values][0]=Solid%20Gold\")\n",
    "driver.implicitly_wait(30)\n"
   ]
  },
  {
   "cell_type": "markdown",
   "id": "6dcbf20f",
   "metadata": {},
   "source": [
    "Function to save the page to files\n"
   ]
  },
  {
   "cell_type": "code",
   "execution_count": 7,
   "id": "336cbd41",
   "metadata": {},
   "outputs": [],
   "source": [
    "def saveString(html, filename):\n",
    "    try:\n",
    "        file = open(filename,\"w\",encoding='utf-8')\n",
    "        file.write(str(html))\n",
    "        file.close()\n",
    "    except Exception as ex:\n",
    "        print('Error: ' + str(ex))"
   ]
  },
  {
   "cell_type": "markdown",
   "id": "75b3d00f",
   "metadata": {},
   "source": [
    "Fetching the source code of each of the page and storing it on the disk\n"
   ]
  },
  {
   "cell_type": "code",
   "execution_count": null,
   "id": "af83f9b4",
   "metadata": {},
   "outputs": [],
   "source": [
    "for i in range(1,9):    \n",
    "    ape = driver.find_element(By.XPATH,\"//*/div/div/div/div[5]/div/div[7]/div[3]/div[2]/div/div[\"+str(i)+\"]/article/a/div[1]/div/div/div/div/span/img\")\n",
    "    ape.click()\n",
    "    time.sleep(10)    \n",
    "    driver.implicitly_wait(10)\n",
    "    a=\"bayc_[\"+str(i)+\"].htm\"\n",
    "    headers = {'User-Agent': 'Mozilla/5.0'}\n",
    "    soup = driver.page_source\n",
    "    saveString(soup,a)\n",
    "    driver.set_page_load_timeout(10)\n",
    "    driver.back()\n",
    "    driver.implicitly_wait(10)\n",
    "\n",
    "driver.quit()"
   ]
  },
  {
   "cell_type": "markdown",
   "id": "d0c4f579",
   "metadata": {},
   "source": [
    "Another approach to save and load the URL in selenium\n"
   ]
  },
  {
   "cell_type": "code",
   "execution_count": null,
   "id": "35cb4b77",
   "metadata": {},
   "outputs": [],
   "source": [
    "for i in range(1,9):    \n",
    "    ape = driver.find_element(By.XPATH,\"//*/div/div/div/div[5]/div/div[7]/div[3]/div[2]/div/div[\"+str(i)+\"]/article/a\")\n",
    "    driver.get(ape.get_attribute('href'))\n",
    "\n",
    "    time.sleep(10)    \n",
    "    driver.implicitly_wait(10)\n",
    "    a=\"bayc_[\"+str(i)+\"].htm\"\n",
    "    headers = {'User-Agent': 'Mozilla/5.0'}\n",
    "    soup = driver.page_source\n",
    "    saveString(soup,a)\n",
    "    driver.set_page_load_timeout(10)\n",
    "    driver.back()\n",
    "    driver.implicitly_wait(10)\n",
    "\n",
    "driver.quit()\n"
   ]
  },
  {
   "cell_type": "markdown",
   "id": "401de363",
   "metadata": {},
   "source": [
    "Nested dictionary to access and save ape attributes\n"
   ]
  },
  {
   "cell_type": "code",
   "execution_count": 1391,
   "id": "f21bd60e",
   "metadata": {},
   "outputs": [
    {
     "name": "stdout",
     "output_type": "stream",
     "text": [
      "{'1': {'Name': '#4873', 'Background': 'Orange', 'Clothes': 'Tie Dye', 'Earring': 'Gold Hoop', 'Eyes': 'Scumbag', 'Fur': 'Solid Gold', 'Hat': 'Army Hat', 'Mouth': 'Bored Pipe'}, '2': {'Name': '#8861', 'Background': 'Yellow', 'Clothes': 'Black T', 'Eyes': 'Sad', 'Fur': 'Solid Gold', 'Hat': 'Bayc Flipped Brim', 'Mouth': 'Phoneme Vuh'}, '3': {'Name': '#3105', 'Background': 'Yellow', 'Clothes': 'Bandolier', 'Eyes': 'Closed', 'Fur': 'Solid Gold', 'Hat': 'Laurel Wreath', 'Mouth': 'Bored'}, '4': {'Name': '#544', 'Background': 'Army Green', 'Clothes': 'Tuxedo Tee', 'Earring': 'Silver Stud', 'Eyes': 'Eyepatch', 'Fur': 'Solid Gold', 'Hat': 'Sushi Chef Headband', 'Mouth': 'Phoneme L'}, '5': {'Name': '#811', 'Background': 'Yellow', 'Clothes': 'Biker Vest', 'Eyes': 'Sleepy', 'Fur': 'Solid Gold', 'Hat': \"Seaman's Hat\", 'Mouth': 'Rage'}, '6': {'Name': '#4580', 'Background': 'Orange', 'Clothes': 'Biker Vest', 'Eyes': '3d', 'Fur': 'Solid Gold', 'Hat': \"Seaman's Hat\", 'Mouth': 'Dumbfounded'}, '7': {'Name': '#7398', 'Background': 'Blue', 'Clothes': 'Sleeveless T', 'Earring': 'Silver Hoop', 'Eyes': 'Angry', 'Fur': 'Solid Gold', 'Hat': 'Bayc Flipped Brim', 'Mouth': 'Bored Unshaven'}, '8': {'Name': '#232', 'Background': 'Army Green', 'Clothes': 'Smoking Jacket', 'Eyes': 'Sleepy', 'Fur': 'Solid Gold', 'Hat': \"Seaman's Hat\", 'Mouth': 'Bored'}}\n"
     ]
    }
   ],
   "source": [
    "dict={}\n",
    "for counter in range(1,9):\n",
    "    file_html=loadString(\"bayc_[\"+str(counter)+\"].htm\")\n",
    "    doc1 = BeautifulSoup(file_html, 'lxml')\n",
    "    \n",
    "    dict[str(counter)]={}\n",
    "    dict[str(counter)][\"Name\"]=doc1.findAll(\"h1\",attrs={\"class\":\"sc-29427738-0 hKCSVX item--title\"})[0].text\n",
    "    z=doc1.findAll(\"div\",attrs={\"class\":\"sc-d6dd8af3-0 hkmmpQ item--property\"})\n",
    "\n",
    "    i=0\n",
    "    while i<len(z):\n",
    "        dict[str(counter)][z[i].contents[0].text]=z[i].contents[1].text\n",
    "        i+=1\n",
    "print(dict)\n"
   ]
  },
  {
   "cell_type": "markdown",
   "id": "671322f8",
   "metadata": {},
   "source": [
    "Creating a new mongodb database named 'bayc' and storing all ape information"
   ]
  },
  {
   "cell_type": "code",
   "execution_count": null,
   "id": "f940ecf5",
   "metadata": {},
   "outputs": [],
   "source": [
    "client=pymongo.MongoClient()\n",
    "db=client.get_database(\"bayc\")\n",
    "print(client.list_database_names())\n",
    "ape_collection=db.create_collection(\"bayc\")"
   ]
  },
  {
   "cell_type": "markdown",
   "id": "d1f428a0",
   "metadata": {},
   "source": [
    "Inserting documents in mongodb collection\n"
   ]
  },
  {
   "cell_type": "code",
   "execution_count": 1396,
   "id": "9401f335",
   "metadata": {},
   "outputs": [
    {
     "data": {
      "text/plain": [
       "<pymongo.results.InsertOneResult at 0x7fc9eef7d460>"
      ]
     },
     "execution_count": 1396,
     "metadata": {},
     "output_type": "execute_result"
    }
   ],
   "source": [
    "ape_collection.insert_one(dict)"
   ]
  }
 ],
 "metadata": {
  "kernelspec": {
   "display_name": "Python 3 (ipykernel)",
   "language": "python",
   "name": "python3"
  },
  "language_info": {
   "codemirror_mode": {
    "name": "ipython",
    "version": 3
   },
   "file_extension": ".py",
   "mimetype": "text/x-python",
   "name": "python",
   "nbconvert_exporter": "python",
   "pygments_lexer": "ipython3",
   "version": "3.9.12"
  }
 },
 "nbformat": 4,
 "nbformat_minor": 5
}
